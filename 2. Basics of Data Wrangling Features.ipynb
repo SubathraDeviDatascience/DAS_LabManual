{
 "cells": [
  {
   "cell_type": "markdown",
   "id": "91e2c3d1",
   "metadata": {},
   "source": [
    "# Creating a DataFrame"
   ]
  },
  {
   "cell_type": "code",
   "execution_count": 1,
   "id": "7f75efdf",
   "metadata": {},
   "outputs": [
    {
     "name": "stdout",
     "output_type": "stream",
     "text": [
      "      Name  Age         City\n",
      "0    Alice   24     New York\n",
      "1      Bob   27  Los Angeles\n",
      "2  Charlie   22      Chicago\n"
     ]
    }
   ],
   "source": [
    "import pandas as pd\n",
    "data = {'Name': ['Alice', 'Bob', 'Charlie'],\n",
    "'Age': [24, 27, 22],\n",
    "'City': ['New York', 'Los Angeles', 'Chicago']}\n",
    "df = pd.DataFrame(data)\n",
    "print(df)"
   ]
  },
  {
   "cell_type": "markdown",
   "id": "4fa27d23",
   "metadata": {},
   "source": [
    "# Reading CSV Files"
   ]
  },
  {
   "cell_type": "code",
   "execution_count": 3,
   "id": "e02d6c95",
   "metadata": {},
   "outputs": [
    {
     "name": "stdout",
     "output_type": "stream",
     "text": [
      "  Emplyee Name  Age Department   Region  Sales Amount\n",
      "0      Abirami   25    Finance   Trichy          2357\n",
      "1       Aarthy   20    Finance   Trichy          7535\n",
      "2  Sarathibala   30  Marketing  Chennai          2346\n",
      "3     Kirthika   26  Marketing   Trichy          4316\n",
      "4       Naveen   28  Marketing   Trichy          6427\n"
     ]
    }
   ],
   "source": [
    "df = pd.read_csv('S:\\DAS\\Sample_data.csv') # Assuming 'sample.csv' exists\n",
    "print(df.head())"
   ]
  },
  {
   "cell_type": "markdown",
   "id": "69c7c6f9",
   "metadata": {},
   "source": [
    "# Data Cleaning"
   ]
  },
  {
   "cell_type": "code",
   "execution_count": 4,
   "id": "ef421f34",
   "metadata": {},
   "outputs": [
    {
     "name": "stdout",
     "output_type": "stream",
     "text": [
      "     A    B\n",
      "1  2.0  2.0\n",
      "3  4.0  4.0\n"
     ]
    }
   ],
   "source": [
    "df = pd.DataFrame({'A': [1, 2, None, 4], 'B': [None, 2, 3, 4]})\n",
    "df_cleaned = df.dropna()\n",
    "print(df_cleaned)"
   ]
  },
  {
   "cell_type": "markdown",
   "id": "a61804df",
   "metadata": {},
   "source": [
    "# Filtering Data"
   ]
  },
  {
   "cell_type": "code",
   "execution_count": 5,
   "id": "671edbfc",
   "metadata": {},
   "outputs": [
    {
     "name": "stdout",
     "output_type": "stream",
     "text": [
      "   A  B\n",
      "2  3  7\n",
      "3  4  8\n"
     ]
    }
   ],
   "source": [
    "df = pd.DataFrame({'A': [1, 2, 3, 4], 'B': [5, 6, 7, 8]})\n",
    "filtered_df = df[df['A'] > 2]\n",
    "print(filtered_df)"
   ]
  },
  {
   "cell_type": "markdown",
   "id": "54448ef6",
   "metadata": {},
   "source": [
    "# Grouping Data"
   ]
  },
  {
   "cell_type": "code",
   "execution_count": 6,
   "id": "7e68bacd",
   "metadata": {},
   "outputs": [
    {
     "name": "stdout",
     "output_type": "stream",
     "text": [
      "     B\n",
      "A     \n",
      "bar  6\n",
      "foo  4\n"
     ]
    }
   ],
   "source": [
    "df = pd.DataFrame({'A': ['foo', 'bar', 'foo', 'bar'],\n",
    "'B': [1, 2, 3, 4]})\n",
    "grouped = df.groupby('A').sum()\n",
    "print(grouped)"
   ]
  },
  {
   "cell_type": "markdown",
   "id": "999bb79d",
   "metadata": {},
   "source": [
    "# Merging DataFrames"
   ]
  },
  {
   "cell_type": "code",
   "execution_count": 7,
   "id": "10cf4c9b",
   "metadata": {},
   "outputs": [
    {
     "name": "stdout",
     "output_type": "stream",
     "text": [
      "     A  B  C\n",
      "0  foo  1  3\n",
      "1  bar  2  4\n"
     ]
    }
   ],
   "source": [
    "df1 = pd.DataFrame({'A': ['foo', 'bar'], 'B': [1, 2]})\n",
    "df2 = pd.DataFrame({'A': ['foo', 'bar'], 'C': [3, 4]})\n",
    "merged_df = pd.merge(df1, df2, on='A')\n",
    "print(merged_df)"
   ]
  },
  {
   "cell_type": "markdown",
   "id": "2bc2f743",
   "metadata": {},
   "source": [
    "# Pivot Tables"
   ]
  },
  {
   "cell_type": "code",
   "execution_count": 8,
   "id": "fba36dc0",
   "metadata": {},
   "outputs": [
    {
     "name": "stdout",
     "output_type": "stream",
     "text": [
      "B      1    2    3    4\n",
      "A                      \n",
      "bar  NaN  6.0  NaN  8.0\n",
      "foo  5.0  NaN  7.0  NaN\n"
     ]
    }
   ],
   "source": [
    "df = pd.DataFrame({'A': ['foo', 'bar', 'foo', 'bar'],\n",
    "'B': [1, 2, 3, 4],\n",
    "'C': [5, 6, 7, 8]})\n",
    "pivot_table = df.pivot_table(values='C', index='A', columns='B', aggfunc='sum')\n",
    "print(pivot_table)"
   ]
  },
  {
   "cell_type": "markdown",
   "id": "14606766",
   "metadata": {},
   "source": [
    "# DataFrame Transformation"
   ]
  },
  {
   "cell_type": "code",
   "execution_count": 9,
   "id": "3c22e751",
   "metadata": {},
   "outputs": [
    {
     "name": "stdout",
     "output_type": "stream",
     "text": [
      "    A   B\n",
      "0   1  25\n",
      "1   4  36\n",
      "2   9  49\n",
      "3  16  64\n"
     ]
    }
   ],
   "source": [
    "df = pd.DataFrame({'A': [1, 2, 3, 4], 'B': [5, 6, 7, 8]})\n",
    "transformed_df = df.transform(lambda x: x ** 2)\n",
    "print(transformed_df)"
   ]
  },
  {
   "cell_type": "markdown",
   "id": "a8c44ed2",
   "metadata": {},
   "source": [
    "# Handling Duplicates"
   ]
  },
  {
   "cell_type": "code",
   "execution_count": 10,
   "id": "1fb635ca",
   "metadata": {},
   "outputs": [
    {
     "name": "stdout",
     "output_type": "stream",
     "text": [
      "   A  B\n",
      "0  1  4\n",
      "2  2  5\n",
      "3  3  6\n"
     ]
    }
   ],
   "source": [
    "df = pd.DataFrame({'A': [1, 1, 2, 3], 'B': [4, 4, 5, 6]})\n",
    "df_no_duplicates = df.drop_duplicates()\n",
    "print(df_no_duplicates)"
   ]
  },
  {
   "cell_type": "markdown",
   "id": "80da7d10",
   "metadata": {},
   "source": [
    "# Saving DataFrames to CSV"
   ]
  },
  {
   "cell_type": "code",
   "execution_count": 11,
   "id": "439d60f6",
   "metadata": {},
   "outputs": [
    {
     "name": "stdout",
     "output_type": "stream",
     "text": [
      "DataFrame saved to output.csv\n"
     ]
    }
   ],
   "source": [
    "df = pd.DataFrame({'A': [1, 2, 3], 'B': [4, 5, 6]})\n",
    "df.to_csv('output.csv', index=False)\n",
    "print(\"DataFrame saved to output.csv\")"
   ]
  }
 ],
 "metadata": {
  "kernelspec": {
   "display_name": "Python 3 (ipykernel)",
   "language": "python",
   "name": "python3"
  },
  "language_info": {
   "codemirror_mode": {
    "name": "ipython",
    "version": 3
   },
   "file_extension": ".py",
   "mimetype": "text/x-python",
   "name": "python",
   "nbconvert_exporter": "python",
   "pygments_lexer": "ipython3",
   "version": "3.9.12"
  }
 },
 "nbformat": 4,
 "nbformat_minor": 5
}
