{
 "cells": [
  {
   "cell_type": "markdown",
   "id": "e576639a",
   "metadata": {},
   "source": [
    "# Week 2 : Basic of Data Wrangling features"
   ]
  },
  {
   "cell_type": "markdown",
   "id": "dffe899b",
   "metadata": {},
   "source": [
    "## Creating DataFrame"
   ]
  },
  {
   "cell_type": "code",
   "execution_count": 1,
   "id": "035385c5",
   "metadata": {},
   "outputs": [],
   "source": [
    "import pandas as pd"
   ]
  },
  {
   "cell_type": "code",
   "execution_count": 3,
   "id": "d516a6e6",
   "metadata": {},
   "outputs": [],
   "source": [
    "data={'Name':['Alice','Bob','Charlie'],\n",
    "      'Age':[24,27,22],\n",
    "      'City':['New York','Los Angeles','Chicago']}"
   ]
  },
  {
   "cell_type": "code",
   "execution_count": 4,
   "id": "2446ac1a",
   "metadata": {},
   "outputs": [
    {
     "name": "stdout",
     "output_type": "stream",
     "text": [
      "      Name  Age         City\n",
      "0    Alice   24     New York\n",
      "1      Bob   27  Los Angeles\n",
      "2  Charlie   22      Chicago\n"
     ]
    }
   ],
   "source": [
    "df=pd.DataFrame(data)\n",
    "print(df)"
   ]
  },
  {
   "cell_type": "markdown",
   "id": "98b34b29",
   "metadata": {},
   "source": [
    "## Reading CSV File"
   ]
  },
  {
   "cell_type": "code",
   "execution_count": 5,
   "id": "01cbcf21",
   "metadata": {},
   "outputs": [
    {
     "name": "stdout",
     "output_type": "stream",
     "text": [
      "  Emplyee Name  Age Department   Region  Sales Amount\n",
      "0      Abirami   25    Finance   Trichy          2357\n",
      "1       Aarthy   20    Finance   Trichy          7535\n",
      "2  Sarathibala   30  Marketing  Chennai          2346\n",
      "3     Kirthika   26  Marketing   Trichy          4316\n",
      "4       Naveen   28  Marketing   Trichy          6427\n"
     ]
    }
   ],
   "source": [
    "import pandas as pd\n",
    "df=pd.read_csv('S:\\DAS\\Sample_data.csv')\n",
    "print(df.head())"
   ]
  },
  {
   "cell_type": "markdown",
   "id": "59b764a5",
   "metadata": {},
   "source": [
    "## Data Cleaning"
   ]
  },
  {
   "cell_type": "code",
   "execution_count": 7,
   "id": "307635f7",
   "metadata": {},
   "outputs": [
    {
     "name": "stdout",
     "output_type": "stream",
     "text": [
      "     A    B\n",
      "1  2.0  2.0\n",
      "3  4.0  4.0\n"
     ]
    }
   ],
   "source": [
    "import pandas as pd\n",
    "df=pd.DataFrame({'A':[1,2,None,4],\n",
    "                'B':[None,2,3,4]})\n",
    "df_cleaned=df.dropna()\n",
    "print(df_cleaned)"
   ]
  },
  {
   "cell_type": "markdown",
   "id": "7b8342a3",
   "metadata": {},
   "source": [
    "## Filtering Data"
   ]
  },
  {
   "cell_type": "code",
   "execution_count": 8,
   "id": "2867dea4",
   "metadata": {},
   "outputs": [
    {
     "name": "stdout",
     "output_type": "stream",
     "text": [
      "   A  B\n",
      "2  3  7\n",
      "3  4  8\n"
     ]
    }
   ],
   "source": [
    "df=pd.DataFrame({'A':[1,2,3,4],'B':[5,6,7,8]})\n",
    "filtered_df=df[df['A']>2]\n",
    "print(filtered_df)"
   ]
  },
  {
   "cell_type": "markdown",
   "id": "450d062e",
   "metadata": {},
   "source": [
    "## Grouping Data"
   ]
  },
  {
   "cell_type": "code",
   "execution_count": 12,
   "id": "b9c335fb",
   "metadata": {},
   "outputs": [
    {
     "name": "stdout",
     "output_type": "stream",
     "text": [
      "     B\n",
      "A     \n",
      "bar  6\n",
      "foo  4\n"
     ]
    }
   ],
   "source": [
    "df=pd.DataFrame({'A':['foo','bar','foo','bar'],\n",
    "                 'B':[1,2,3,4]})\n",
    "grouped=df.groupby('A').sum()\n",
    "print(grouped)"
   ]
  },
  {
   "cell_type": "markdown",
   "id": "0b846c55",
   "metadata": {},
   "source": [
    "## Merging DataFrame"
   ]
  },
  {
   "cell_type": "code",
   "execution_count": 13,
   "id": "0962bebf",
   "metadata": {},
   "outputs": [],
   "source": [
    "df1=pd.DataFrame({'A':['foo','bar'],\n",
    "                 'B':[1,2]})"
   ]
  },
  {
   "cell_type": "code",
   "execution_count": 14,
   "id": "a100a364",
   "metadata": {},
   "outputs": [],
   "source": [
    "df2=pd.DataFrame({'A':['foo','bar'],\n",
    "                  'C':[3,4]})"
   ]
  },
  {
   "cell_type": "code",
   "execution_count": 16,
   "id": "24ddf8b1",
   "metadata": {},
   "outputs": [
    {
     "name": "stdout",
     "output_type": "stream",
     "text": [
      "     A  B  C\n",
      "0  foo  1  3\n",
      "1  bar  2  4\n"
     ]
    }
   ],
   "source": [
    "merged_df=pd.merge(df1,df2,on='A')\n",
    "print(merged_df)"
   ]
  }
 ],
 "metadata": {
  "kernelspec": {
   "display_name": "Python 3 (ipykernel)",
   "language": "python",
   "name": "python3"
  },
  "language_info": {
   "codemirror_mode": {
    "name": "ipython",
    "version": 3
   },
   "file_extension": ".py",
   "mimetype": "text/x-python",
   "name": "python",
   "nbconvert_exporter": "python",
   "pygments_lexer": "ipython3",
   "version": "3.9.12"
  }
 },
 "nbformat": 4,
 "nbformat_minor": 5
}
