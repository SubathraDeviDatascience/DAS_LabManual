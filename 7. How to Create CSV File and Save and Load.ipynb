{
 "cells": [
  {
   "cell_type": "markdown",
   "id": "80e9070c",
   "metadata": {},
   "source": [
    "# Creating and Saving a CSV File"
   ]
  },
  {
   "cell_type": "code",
   "execution_count": 2,
   "id": "b8d88543",
   "metadata": {},
   "outputs": [
    {
     "name": "stdout",
     "output_type": "stream",
     "text": [
      "CSV file 'people.csv' created successfully.\n"
     ]
    }
   ],
   "source": [
    "import pandas as pd\n",
    "df = pd.DataFrame({\n",
    "'Name': ['Alice', 'Bob', 'Charlie'],\n",
    "'Age': [25, 30, 35],\n",
    "'City': ['New York', 'Los Angeles', 'Chicago']\n",
    "})\n",
    "df.to_csv('people.csv', index=False)\n",
    "print(\"CSV file 'people.csv' created successfully.\")"
   ]
  },
  {
   "cell_type": "markdown",
   "id": "c4d83906",
   "metadata": {},
   "source": [
    "# Loading a CSV File\n"
   ]
  },
  {
   "cell_type": "code",
   "execution_count": 3,
   "id": "c05927cd",
   "metadata": {},
   "outputs": [
    {
     "name": "stdout",
     "output_type": "stream",
     "text": [
      "      Name  Age         City\n",
      "0    Alice   25     New York\n",
      "1      Bob   30  Los Angeles\n",
      "2  Charlie   35      Chicago\n"
     ]
    }
   ],
   "source": [
    "loaded_df = pd.read_csv('people.csv')\n",
    "print(loaded_df)"
   ]
  },
  {
   "cell_type": "markdown",
   "id": "602ba78e",
   "metadata": {},
   "source": [
    "# Appending to a CSV File"
   ]
  },
  {
   "cell_type": "code",
   "execution_count": 4,
   "id": "90c3f24c",
   "metadata": {},
   "outputs": [
    {
     "name": "stdout",
     "output_type": "stream",
     "text": [
      "New data appended to 'people.csv'.\n"
     ]
    }
   ],
   "source": [
    "new_data = pd.DataFrame({\n",
    "'Name': ['David', 'Eva'],\n",
    "'Age': [40, 22],\n",
    "'City': ['San Francisco', 'Seattle']\n",
    "})\n",
    "new_data.to_csv('people.csv', mode='a', header=False, index=False)\n",
    "print(\"New data appended to 'people.csv'.\")"
   ]
  },
  {
   "cell_type": "markdown",
   "id": "a1c0610e",
   "metadata": {},
   "source": [
    "# Reading a CSV File with Different Delimiter"
   ]
  },
  {
   "cell_type": "code",
   "execution_count": 5,
   "id": "58801a9d",
   "metadata": {},
   "outputs": [
    {
     "name": "stdout",
     "output_type": "stream",
     "text": [
      "            Name,Age,City\n",
      "0       Alice,25,New York\n",
      "1      Bob,30,Los Angeles\n",
      "2      Charlie,35,Chicago\n",
      "3  David,40,San Francisco\n",
      "4          Eva,22,Seattle\n"
     ]
    }
   ],
   "source": [
    "df = pd.read_csv('people.csv', delimiter=';')\n",
    "print(df)"
   ]
  },
  {
   "cell_type": "markdown",
   "id": "d4c6fba7",
   "metadata": {},
   "source": [
    "# Loading CSV File with Custom Column Names"
   ]
  },
  {
   "cell_type": "code",
   "execution_count": 6,
   "id": "e155a1d4",
   "metadata": {},
   "outputs": [
    {
     "name": "stdout",
     "output_type": "stream",
     "text": [
      "  Full Name  Age       Location\n",
      "0     Alice   25       New York\n",
      "1       Bob   30    Los Angeles\n",
      "2   Charlie   35        Chicago\n",
      "3     David   40  San Francisco\n",
      "4       Eva   22        Seattle\n"
     ]
    }
   ],
   "source": [
    "df = pd.read_csv('people.csv', names=['Full Name', 'Age', 'Location'], header=0)\n",
    "print(df)"
   ]
  }
 ],
 "metadata": {
  "kernelspec": {
   "display_name": "Python 3 (ipykernel)",
   "language": "python",
   "name": "python3"
  },
  "language_info": {
   "codemirror_mode": {
    "name": "ipython",
    "version": 3
   },
   "file_extension": ".py",
   "mimetype": "text/x-python",
   "name": "python",
   "nbconvert_exporter": "python",
   "pygments_lexer": "ipython3",
   "version": "3.9.12"
  }
 },
 "nbformat": 4,
 "nbformat_minor": 5
}
