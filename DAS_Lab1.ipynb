{
 "cells": [
  {
   "cell_type": "markdown",
   "id": "f929452e",
   "metadata": {},
   "source": [
    "# Week1: Basic Data Analytics Using Numpy"
   ]
  },
  {
   "cell_type": "markdown",
   "id": "f5a550d6",
   "metadata": {},
   "source": [
    "## Basic Array Operations "
   ]
  },
  {
   "cell_type": "code",
   "execution_count": 2,
   "id": "e4f663c3",
   "metadata": {},
   "outputs": [
    {
     "name": "stdout",
     "output_type": "stream",
     "text": [
      "Array [1 2 3 4 5]\n"
     ]
    }
   ],
   "source": [
    "import numpy as np\n",
    "arr=np.array([1,2,3,4,5])\n",
    "print(\"Array\", arr)"
   ]
  },
  {
   "cell_type": "code",
   "execution_count": 4,
   "id": "0efb627c",
   "metadata": {},
   "outputs": [
    {
     "name": "stdout",
     "output_type": "stream",
     "text": [
      "Add 5: [ 6  7  8  9 10]\n",
      "Multiple by 2: [ 2  4  6  8 10]\n"
     ]
    }
   ],
   "source": [
    "#Perform Arithmetic operation\n",
    "add=arr+5\n",
    "print(\"Add 5:\",add)\n",
    "mul=arr*2\n",
    "print(\"Multiple by 2:\", mul)"
   ]
  },
  {
   "cell_type": "markdown",
   "id": "4d61c86f",
   "metadata": {},
   "source": [
    "## Calculate mean, median, standard deviation "
   ]
  },
  {
   "cell_type": "code",
   "execution_count": 6,
   "id": "3d2c64a0",
   "metadata": {},
   "outputs": [
    {
     "name": "stdout",
     "output_type": "stream",
     "text": [
      "Mean: 5.5\n",
      "Median: 5.5\n",
      "Standard Deviation: 2.8722813232690143\n"
     ]
    }
   ],
   "source": [
    "arr=np.array([1,2,3,4,5,6,7,8,9,10])\n",
    "print(\"Mean:\",np.mean(arr))\n",
    "print(\"Median:\",np.median(arr))\n",
    "print(\"Standard Deviation:\",np.std(arr))"
   ]
  },
  {
   "cell_type": "markdown",
   "id": "008b2d70",
   "metadata": {},
   "source": [
    "## Reshaping array "
   ]
  },
  {
   "cell_type": "code",
   "execution_count": 7,
   "id": "e6a34983",
   "metadata": {},
   "outputs": [
    {
     "name": "stdout",
     "output_type": "stream",
     "text": [
      "Reshape array:\n",
      " [[ 1  2  3  4]\n",
      " [ 5  6  7  8]\n",
      " [ 9 10 11 12]]\n"
     ]
    }
   ],
   "source": [
    "arr=np.arange(1,13)\n",
    "reshape_arr=arr.reshape(3,4)\n",
    "print(\"Reshape array:\\n\",reshape_arr)"
   ]
  },
  {
   "cell_type": "markdown",
   "id": "6f30afa9",
   "metadata": {},
   "source": [
    "## Array Indexing "
   ]
  },
  {
   "cell_type": "code",
   "execution_count": 8,
   "id": "b3e91fd2",
   "metadata": {},
   "outputs": [
    {
     "name": "stdout",
     "output_type": "stream",
     "text": [
      "First Element: 10\n",
      "Last Element: 50\n",
      "Slice (1 to 3): [20 30 40]\n"
     ]
    }
   ],
   "source": [
    "arr=np.array([10,20,30,40,50])\n",
    "print(\"First Element:\",arr[0])\n",
    "print(\"Last Element:\",arr[-1])\n",
    "print(\"Slice (1 to 3):\",arr[1:4])"
   ]
  },
  {
   "cell_type": "markdown",
   "id": "91bedda8",
   "metadata": {},
   "source": [
    "## Array Concatenation"
   ]
  },
  {
   "cell_type": "code",
   "execution_count": 9,
   "id": "64f116d0",
   "metadata": {},
   "outputs": [
    {
     "name": "stdout",
     "output_type": "stream",
     "text": [
      "Concatenated Array: [1 2 3 4 5 6]\n"
     ]
    }
   ],
   "source": [
    "arr1=np.array([1,2,3])\n",
    "arr2=np.array([4,5,6])\n",
    "concatenated=np.concatenate((arr1,arr2))\n",
    "print(\"Concatenated Array:\", concatenated)"
   ]
  },
  {
   "cell_type": "markdown",
   "id": "a6a2261a",
   "metadata": {},
   "source": [
    "## Boolean Indexing to filter array"
   ]
  },
  {
   "cell_type": "code",
   "execution_count": 10,
   "id": "7b34ee51",
   "metadata": {},
   "outputs": [
    {
     "name": "stdout",
     "output_type": "stream",
     "text": [
      "Filter array(Greater than 2): [3 4 5]\n"
     ]
    }
   ],
   "source": [
    "arr=np.array([1,2,3,4,5])\n",
    "filter_arr=arr[arr>2]\n",
    "print(\"Filter array(Greater than 2):\",filter_arr)"
   ]
  },
  {
   "cell_type": "markdown",
   "id": "6deffaab",
   "metadata": {},
   "source": [
    "## Dot Product "
   ]
  },
  {
   "cell_type": "code",
   "execution_count": 11,
   "id": "7341d70b",
   "metadata": {},
   "outputs": [
    {
     "name": "stdout",
     "output_type": "stream",
     "text": [
      "Dot Product: 32\n"
     ]
    }
   ],
   "source": [
    "arr1=np.array([1,2,3])\n",
    "arr2=np.array([4,5,6])\n",
    "dot_product=np.dot(arr1,arr2)\n",
    "print(\"Dot Product:\",dot_product)"
   ]
  },
  {
   "cell_type": "markdown",
   "id": "40976b5e",
   "metadata": {},
   "source": [
    "## Linear Algebra Operations"
   ]
  },
  {
   "cell_type": "code",
   "execution_count": 13,
   "id": "fda2875a",
   "metadata": {},
   "outputs": [
    {
     "name": "stdout",
     "output_type": "stream",
     "text": [
      "Determinate: -2.0000000000000004\n",
      "Inverse: [[-2.   1. ]\n",
      " [ 1.5 -0.5]]\n"
     ]
    }
   ],
   "source": [
    "matrix=np.array([[1,2],[3,4]])\n",
    "determinant=np.linalg.det(matrix)\n",
    "inverse=np.linalg.inv(matrix)\n",
    "print(\"Determinate:\",determinant)\n",
    "print(\"Inverse:\", inverse)"
   ]
  }
 ],
 "metadata": {
  "kernelspec": {
   "display_name": "Python 3 (ipykernel)",
   "language": "python",
   "name": "python3"
  },
  "language_info": {
   "codemirror_mode": {
    "name": "ipython",
    "version": 3
   },
   "file_extension": ".py",
   "mimetype": "text/x-python",
   "name": "python",
   "nbconvert_exporter": "python",
   "pygments_lexer": "ipython3",
   "version": "3.9.12"
  }
 },
 "nbformat": 4,
 "nbformat_minor": 5
}
